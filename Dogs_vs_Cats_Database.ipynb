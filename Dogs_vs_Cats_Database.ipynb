{
 "cells": [
  {
   "cell_type": "code",
   "execution_count": 1,
   "id": "87b57b1b",
   "metadata": {},
   "outputs": [],
   "source": [
    "import os, shutil\n",
    "\n",
    "original_dataset_dir_cats = r'C:\\Users\\PC\\Desktop\\sxoli\\deep learning\\cats_dogs\\Cat'\n",
    "original_dataset_dir_dogs = r'C:\\Users\\PC\\Desktop\\sxoli\\deep learning\\cats_dogs\\Dog'\n",
    "\n",
    "base_dir = r'C:\\Users\\PC\\Desktop\\sxoli\\deep learning\\base_cats_dogs'\n",
    "\n",
    "train_dir = os.path.join(base_dir, 'train')\n",
    "os.mkdir(train_dir)\n",
    "validation_dir = os.path.join(base_dir, 'validation')\n",
    "os.mkdir(validation_dir)\n",
    "test_dir = os.path.join(base_dir, 'test')\n",
    "os.mkdir(test_dir)\n",
    "\n",
    "train_cats_dir = os.path.join(train_dir, 'cats')\n",
    "os.mkdir(train_cats_dir)\n",
    "\n",
    "train_dogs_dir = os.path.join(train_dir, 'dogs')\n",
    "os.mkdir(train_dogs_dir)\n",
    "\n",
    "validation_cats_dir = os.path.join(validation_dir, 'cats')\n",
    "os.mkdir(validation_cats_dir)\n",
    "\n",
    "validation_dogs_dir = os.path.join(validation_dir, 'dogs')\n",
    "os.mkdir(validation_dogs_dir)\n",
    "\n",
    "test_cats_dir = os.path.join(test_dir, 'cats')\n",
    "os.mkdir(test_cats_dir)\n",
    "\n",
    "test_dogs_dir = os.path.join(test_dir, 'dogs')\n",
    "os.mkdir(test_dogs_dir)\n",
    "fnames = ['cat.{}.jpg'.format(i) for i in range(4000)]\n",
    "for fname in fnames:\n",
    "    src = os.path.join(original_dataset_dir_cats, fname)\n",
    "    dst = os.path.join(train_cats_dir, fname)\n",
    "    shutil.copyfile(src, dst)\n",
    "fnames = ['cat.{}.jpg'.format(i) for i in range(4000, 5000)]\n",
    "for fname in fnames:\n",
    "    src = os.path.join(original_dataset_dir_cats, fname)\n",
    "    dst = os.path.join(validation_cats_dir, fname)\n",
    "    shutil.copyfile(src, dst)\n",
    "fnames = ['cat.{}.jpg'.format(i) for i in range(5000, 6000)]\n",
    "for fname in fnames:\n",
    "    src = os.path.join(original_dataset_dir_cats, fname)\n",
    "    dst = os.path.join(test_cats_dir, fname)\n",
    "    shutil.copyfile(src, dst)\n",
    "    fnames = ['dog.{}.jpg'.format(i) for i in range(4000)]\n",
    "for fname in fnames:\n",
    "    src = os.path.join(original_dataset_dir_dogs, fname)\n",
    "    dst = os.path.join(train_dogs_dir, fname)\n",
    "    shutil.copyfile(src, dst)\n",
    "fnames = ['dog.{}.jpg'.format(i) for i in range(4000, 5000)]\n",
    "for fname in fnames:\n",
    "    src = os.path.join(original_dataset_dir_dogs, fname)\n",
    "    dst = os.path.join(validation_dogs_dir, fname)\n",
    "    shutil.copyfile(src, dst)\n",
    "fnames = ['dog.{}.jpg'.format(i) for i in range(5000, 6000)]\n",
    "for fname in fnames:\n",
    "    src = os.path.join(original_dataset_dir_dogs, fname)\n",
    "    dst = os.path.join(test_dogs_dir, fname)\n",
    "    shutil.copyfile(src, dst)"
   ]
  },
  {
   "cell_type": "code",
   "execution_count": null,
   "id": "5832735b",
   "metadata": {},
   "outputs": [],
   "source": []
  },
  {
   "cell_type": "code",
   "execution_count": 2,
   "id": "f27f9dde",
   "metadata": {},
   "outputs": [
    {
     "name": "stdout",
     "output_type": "stream",
     "text": [
      "total training cat images: 4000\n"
     ]
    }
   ],
   "source": [
    "print('total training cat images:', len(os.listdir(train_cats_dir)))"
   ]
  },
  {
   "cell_type": "code",
   "execution_count": 3,
   "id": "638f390f",
   "metadata": {},
   "outputs": [
    {
     "name": "stdout",
     "output_type": "stream",
     "text": [
      "total training dog images: 4000\n"
     ]
    }
   ],
   "source": [
    "print('total training dog images:', len(os.listdir(train_dogs_dir)))"
   ]
  },
  {
   "cell_type": "code",
   "execution_count": 4,
   "id": "140c5bac",
   "metadata": {},
   "outputs": [
    {
     "name": "stdout",
     "output_type": "stream",
     "text": [
      "total validation cat images: 1000\n"
     ]
    }
   ],
   "source": [
    "print('total validation cat images:', len(os.listdir(validation_cats_dir)))"
   ]
  },
  {
   "cell_type": "code",
   "execution_count": 5,
   "id": "3c8a677a",
   "metadata": {},
   "outputs": [
    {
     "name": "stdout",
     "output_type": "stream",
     "text": [
      "total validation dog images: 1000\n"
     ]
    }
   ],
   "source": [
    " print('total validation dog images:', len(os.listdir(validation_dogs_dir)))"
   ]
  },
  {
   "cell_type": "code",
   "execution_count": 6,
   "id": "c0eb4d4c",
   "metadata": {},
   "outputs": [
    {
     "name": "stdout",
     "output_type": "stream",
     "text": [
      "total test cat images: 1000\n"
     ]
    }
   ],
   "source": [
    "print('total test cat images:', len(os.listdir(test_cats_dir)))"
   ]
  },
  {
   "cell_type": "code",
   "execution_count": 7,
   "id": "932590a3",
   "metadata": {},
   "outputs": [
    {
     "name": "stdout",
     "output_type": "stream",
     "text": [
      "total test dog images: 1000\n"
     ]
    }
   ],
   "source": [
    "print('total test dog images:', len(os.listdir(test_dogs_dir)))"
   ]
  },
  {
   "cell_type": "code",
   "execution_count": 8,
   "id": "676f5084",
   "metadata": {},
   "outputs": [],
   "source": [
    "from keras import layers\n",
    "from keras import models\n",
    "\n",
    "model = models.Sequential()\n",
    "model.add(layers.Conv2D(32, (3, 3), activation='relu', input_shape=(150, 150, 3)))\n",
    "model.add(layers.MaxPooling2D((2, 2)))\n",
    "model.add(layers.Conv2D(64, (3, 3), activation='relu'))\n",
    "model.add(layers.MaxPooling2D((2, 2)))\n",
    "model.add(layers.Conv2D(128, (3, 3), activation='relu'))\n",
    "model.add(layers.MaxPooling2D((2, 2)))\n",
    "model.add(layers.Conv2D(128, (3, 3), activation='relu'))\n",
    "model.add(layers.MaxPooling2D((2, 2)))\n",
    "model.add(layers.Flatten())\n",
    "model.add(layers.Dropout(0.5))\n",
    "model.add(layers.Dense(512, activation='relu'))\n",
    "model.add(layers.Dense(1, activation='sigmoid'))"
   ]
  },
  {
   "cell_type": "code",
   "execution_count": 9,
   "id": "2aad8d5b",
   "metadata": {},
   "outputs": [
    {
     "name": "stdout",
     "output_type": "stream",
     "text": [
      "Model: \"sequential\"\n",
      "_________________________________________________________________\n",
      " Layer (type)                Output Shape              Param #   \n",
      "=================================================================\n",
      " conv2d (Conv2D)             (None, 148, 148, 32)      896       \n",
      "                                                                 \n",
      " max_pooling2d (MaxPooling2D  (None, 74, 74, 32)       0         \n",
      " )                                                               \n",
      "                                                                 \n",
      " conv2d_1 (Conv2D)           (None, 72, 72, 64)        18496     \n",
      "                                                                 \n",
      " max_pooling2d_1 (MaxPooling  (None, 36, 36, 64)       0         \n",
      " 2D)                                                             \n",
      "                                                                 \n",
      " conv2d_2 (Conv2D)           (None, 34, 34, 128)       73856     \n",
      "                                                                 \n",
      " max_pooling2d_2 (MaxPooling  (None, 17, 17, 128)      0         \n",
      " 2D)                                                             \n",
      "                                                                 \n",
      " conv2d_3 (Conv2D)           (None, 15, 15, 128)       147584    \n",
      "                                                                 \n",
      " max_pooling2d_3 (MaxPooling  (None, 7, 7, 128)        0         \n",
      " 2D)                                                             \n",
      "                                                                 \n",
      " flatten (Flatten)           (None, 6272)              0         \n",
      "                                                                 \n",
      " dropout (Dropout)           (None, 6272)              0         \n",
      "                                                                 \n",
      " dense (Dense)               (None, 512)               3211776   \n",
      "                                                                 \n",
      " dense_1 (Dense)             (None, 1)                 513       \n",
      "                                                                 \n",
      "=================================================================\n",
      "Total params: 3,453,121\n",
      "Trainable params: 3,453,121\n",
      "Non-trainable params: 0\n",
      "_________________________________________________________________\n"
     ]
    }
   ],
   "source": [
    "model.summary()"
   ]
  },
  {
   "cell_type": "code",
   "execution_count": 10,
   "id": "f7592ee1",
   "metadata": {},
   "outputs": [],
   "source": [
    "from keras import optimizers\n",
    "model.compile(loss='binary_crossentropy',\n",
    "              optimizer=optimizers.RMSprop(learning_rate=1e-4),\n",
    "              metrics=['acc'])"
   ]
  },
  {
   "cell_type": "code",
   "execution_count": 11,
   "id": "a79dc64d",
   "metadata": {},
   "outputs": [
    {
     "name": "stdout",
     "output_type": "stream",
     "text": [
      "Found 8000 images belonging to 2 classes.\n",
      "Found 2000 images belonging to 2 classes.\n"
     ]
    }
   ],
   "source": [
    "from keras.preprocessing.image import ImageDataGenerator\n",
    "\n",
    "train_datagen = ImageDataGenerator(rescale=1./255)\n",
    "test_datagen = ImageDataGenerator(rescale=1./255)\n",
    "\n",
    "train_generator = train_datagen.flow_from_directory(\n",
    "    train_dir,\n",
    "    target_size=(150, 150),\n",
    "    batch_size=20,\n",
    "    class_mode='binary')\n",
    "validation_generator = test_datagen.flow_from_directory(\n",
    "    validation_dir,\n",
    "    target_size=(150, 150),\n",
    "    batch_size=20,\n",
    "    class_mode='binary')"
   ]
  },
  {
   "cell_type": "code",
   "execution_count": null,
   "id": "40620af8",
   "metadata": {},
   "outputs": [],
   "source": []
  },
  {
   "cell_type": "code",
   "execution_count": 12,
   "id": "756e1e42",
   "metadata": {},
   "outputs": [
    {
     "name": "stdout",
     "output_type": "stream",
     "text": [
      "data batch shape: (20, 150, 150, 3)\n",
      "labels batch shape: (20,)\n"
     ]
    }
   ],
   "source": [
    " for data_batch, labels_batch in train_generator:\n",
    "     print('data batch shape:', data_batch.shape)\n",
    "     print('labels batch shape:', labels_batch.shape)\n",
    "     break"
   ]
  },
  {
   "cell_type": "code",
   "execution_count": 13,
   "id": "fbb7d1aa",
   "metadata": {
    "scrolled": true
   },
   "outputs": [
    {
     "name": "stdout",
     "output_type": "stream",
     "text": [
      "Epoch 1/50\n",
      "100/100 [==============================] - 32s 313ms/step - loss: 0.6938 - acc: 0.5070 - val_loss: 0.6921 - val_acc: 0.5110\n",
      "Epoch 2/50\n",
      "100/100 [==============================] - 27s 267ms/step - loss: 0.6748 - acc: 0.5745 - val_loss: 0.6560 - val_acc: 0.6360\n",
      "Epoch 3/50\n",
      "100/100 [==============================] - 25s 252ms/step - loss: 0.6445 - acc: 0.6385 - val_loss: 0.6239 - val_acc: 0.6630\n",
      "Epoch 4/50\n",
      "100/100 [==============================] - 24s 242ms/step - loss: 0.6240 - acc: 0.6670 - val_loss: 0.6001 - val_acc: 0.6690\n",
      "Epoch 5/50\n",
      "100/100 [==============================] - 24s 238ms/step - loss: 0.6000 - acc: 0.6925 - val_loss: 0.6068 - val_acc: 0.6650\n",
      "Epoch 6/50\n",
      "100/100 [==============================] - 24s 237ms/step - loss: 0.5950 - acc: 0.6695 - val_loss: 0.5934 - val_acc: 0.6800\n",
      "Epoch 7/50\n",
      "100/100 [==============================] - 24s 237ms/step - loss: 0.5784 - acc: 0.6880 - val_loss: 0.5612 - val_acc: 0.7290\n",
      "Epoch 8/50\n",
      "100/100 [==============================] - 25s 253ms/step - loss: 0.5503 - acc: 0.7150 - val_loss: 0.6977 - val_acc: 0.6340\n",
      "Epoch 9/50\n",
      "100/100 [==============================] - 25s 249ms/step - loss: 0.5494 - acc: 0.7220 - val_loss: 0.5415 - val_acc: 0.7000\n",
      "Epoch 10/50\n",
      "100/100 [==============================] - 24s 244ms/step - loss: 0.5403 - acc: 0.7150 - val_loss: 0.5935 - val_acc: 0.6880\n",
      "Epoch 11/50\n",
      "100/100 [==============================] - 24s 241ms/step - loss: 0.5291 - acc: 0.7245 - val_loss: 0.5397 - val_acc: 0.7320\n",
      "Epoch 12/50\n",
      "100/100 [==============================] - 24s 243ms/step - loss: 0.5122 - acc: 0.7410 - val_loss: 0.5402 - val_acc: 0.7090\n",
      "Epoch 13/50\n",
      "100/100 [==============================] - 24s 238ms/step - loss: 0.5099 - acc: 0.7510 - val_loss: 0.5574 - val_acc: 0.6950\n",
      "Epoch 14/50\n",
      "100/100 [==============================] - 24s 239ms/step - loss: 0.5117 - acc: 0.7460 - val_loss: 0.5314 - val_acc: 0.7290\n",
      "Epoch 15/50\n",
      "100/100 [==============================] - 24s 240ms/step - loss: 0.4887 - acc: 0.7585 - val_loss: 0.4676 - val_acc: 0.7760\n",
      "Epoch 16/50\n",
      "100/100 [==============================] - 24s 238ms/step - loss: 0.4678 - acc: 0.7845 - val_loss: 0.5121 - val_acc: 0.7650\n",
      "Epoch 17/50\n",
      "100/100 [==============================] - 24s 236ms/step - loss: 0.4783 - acc: 0.7730 - val_loss: 0.5317 - val_acc: 0.7320\n",
      "Epoch 18/50\n",
      "100/100 [==============================] - 24s 239ms/step - loss: 0.4518 - acc: 0.7865 - val_loss: 0.5055 - val_acc: 0.7530\n",
      "Epoch 19/50\n",
      "100/100 [==============================] - 24s 244ms/step - loss: 0.4467 - acc: 0.7895 - val_loss: 0.4809 - val_acc: 0.7590\n",
      "Epoch 20/50\n",
      "100/100 [==============================] - 24s 243ms/step - loss: 0.4373 - acc: 0.7905 - val_loss: 0.4616 - val_acc: 0.7930\n",
      "Epoch 21/50\n",
      "100/100 [==============================] - 24s 237ms/step - loss: 0.4585 - acc: 0.7795 - val_loss: 0.4503 - val_acc: 0.7810\n",
      "Epoch 22/50\n",
      "100/100 [==============================] - 24s 235ms/step - loss: 0.4390 - acc: 0.7895 - val_loss: 0.4380 - val_acc: 0.7960\n",
      "Epoch 23/50\n",
      "100/100 [==============================] - 24s 239ms/step - loss: 0.4422 - acc: 0.7950 - val_loss: 0.4690 - val_acc: 0.7710\n",
      "Epoch 24/50\n",
      "100/100 [==============================] - 24s 239ms/step - loss: 0.4198 - acc: 0.8005 - val_loss: 0.4467 - val_acc: 0.7930\n",
      "Epoch 25/50\n",
      "100/100 [==============================] - 24s 244ms/step - loss: 0.4192 - acc: 0.8060 - val_loss: 0.4203 - val_acc: 0.8040\n",
      "Epoch 26/50\n",
      "100/100 [==============================] - 24s 243ms/step - loss: 0.4133 - acc: 0.8130 - val_loss: 0.4395 - val_acc: 0.8060\n",
      "Epoch 27/50\n",
      "100/100 [==============================] - 25s 250ms/step - loss: 0.4141 - acc: 0.8110 - val_loss: 0.4545 - val_acc: 0.8060\n",
      "Epoch 28/50\n",
      "100/100 [==============================] - 24s 244ms/step - loss: 0.3984 - acc: 0.8200 - val_loss: 0.4620 - val_acc: 0.7840\n",
      "Epoch 29/50\n",
      "100/100 [==============================] - 25s 245ms/step - loss: 0.3885 - acc: 0.8225 - val_loss: 0.4468 - val_acc: 0.7970\n",
      "Epoch 30/50\n",
      "100/100 [==============================] - 24s 243ms/step - loss: 0.3926 - acc: 0.8225 - val_loss: 0.4223 - val_acc: 0.7970\n",
      "Epoch 31/50\n",
      "100/100 [==============================] - 25s 248ms/step - loss: 0.3872 - acc: 0.8175 - val_loss: 0.4413 - val_acc: 0.7990\n",
      "Epoch 32/50\n",
      "100/100 [==============================] - 26s 258ms/step - loss: 0.3803 - acc: 0.8280 - val_loss: 0.4088 - val_acc: 0.8130\n",
      "Epoch 33/50\n",
      "100/100 [==============================] - 24s 242ms/step - loss: 0.3874 - acc: 0.8175 - val_loss: 0.4700 - val_acc: 0.7870\n",
      "Epoch 34/50\n",
      "100/100 [==============================] - 24s 237ms/step - loss: 0.3838 - acc: 0.8335 - val_loss: 0.4149 - val_acc: 0.7970\n",
      "Epoch 35/50\n",
      "100/100 [==============================] - 24s 244ms/step - loss: 0.3516 - acc: 0.8415 - val_loss: 0.4626 - val_acc: 0.7940\n",
      "Epoch 36/50\n",
      "100/100 [==============================] - 24s 239ms/step - loss: 0.3823 - acc: 0.8350 - val_loss: 0.4887 - val_acc: 0.7810\n",
      "Epoch 37/50\n",
      "100/100 [==============================] - 24s 238ms/step - loss: 0.3591 - acc: 0.8550 - val_loss: 0.4341 - val_acc: 0.8000\n",
      "Epoch 38/50\n",
      "100/100 [==============================] - 24s 238ms/step - loss: 0.3359 - acc: 0.8495 - val_loss: 0.4401 - val_acc: 0.7960\n",
      "Epoch 39/50\n",
      "100/100 [==============================] - 24s 238ms/step - loss: 0.3440 - acc: 0.8450 - val_loss: 0.4257 - val_acc: 0.8050\n",
      "Epoch 40/50\n",
      "100/100 [==============================] - 24s 244ms/step - loss: 0.3517 - acc: 0.8545 - val_loss: 0.4861 - val_acc: 0.7870\n",
      "Epoch 41/50\n",
      "100/100 [==============================] - 24s 239ms/step - loss: 0.3526 - acc: 0.8505 - val_loss: 0.4130 - val_acc: 0.8080\n",
      "Epoch 42/50\n",
      "100/100 [==============================] - 24s 239ms/step - loss: 0.3454 - acc: 0.8465 - val_loss: 0.3877 - val_acc: 0.8240\n",
      "Epoch 43/50\n",
      "100/100 [==============================] - 24s 242ms/step - loss: 0.3289 - acc: 0.8515 - val_loss: 0.4049 - val_acc: 0.8150\n",
      "Epoch 44/50\n",
      "100/100 [==============================] - 23s 234ms/step - loss: 0.3218 - acc: 0.8585 - val_loss: 0.4067 - val_acc: 0.8140\n",
      "Epoch 45/50\n",
      "100/100 [==============================] - 23s 235ms/step - loss: 0.3076 - acc: 0.8735 - val_loss: 0.3846 - val_acc: 0.8420\n",
      "Epoch 46/50\n",
      "100/100 [==============================] - 24s 236ms/step - loss: 0.3320 - acc: 0.8525 - val_loss: 0.3684 - val_acc: 0.8400\n",
      "Epoch 47/50\n",
      "100/100 [==============================] - 24s 243ms/step - loss: 0.3324 - acc: 0.8540 - val_loss: 0.4271 - val_acc: 0.8170\n",
      "Epoch 48/50\n",
      "100/100 [==============================] - 24s 239ms/step - loss: 0.3076 - acc: 0.8685 - val_loss: 0.4079 - val_acc: 0.8290\n",
      "Epoch 49/50\n",
      "100/100 [==============================] - 24s 244ms/step - loss: 0.3038 - acc: 0.8660 - val_loss: 0.3856 - val_acc: 0.8230\n",
      "Epoch 50/50\n",
      "100/100 [==============================] - 24s 239ms/step - loss: 0.3035 - acc: 0.8700 - val_loss: 0.3938 - val_acc: 0.8230\n"
     ]
    }
   ],
   "source": [
    "history = model.fit(train_generator,steps_per_epoch=100,epochs=50,validation_data=validation_generator,validation_steps=50)"
   ]
  },
  {
   "cell_type": "code",
   "execution_count": 14,
   "id": "bd25ec2c",
   "metadata": {},
   "outputs": [
    {
     "data": {
      "image/png": "[encoded data removed]",
      "text/plain": [
       "<Figure size 640x480 with 1 Axes>"
      ]
     },
     "metadata": {},
     "output_type": "display_data"
    },
    {
     "data": {
      "image/png": "[encoded data removed]",
      "text/plain": [
       "<Figure size 640x480 with 1 Axes>"
      ]
     },
     "metadata": {},
     "output_type": "display_data"
    }
   ],
   "source": [
    "import matplotlib.pyplot as plt\n",
    "\n",
    "acc = history.history['acc']\n",
    "val_acc = history.history['val_acc']\n",
    "loss = history.history['loss']\n",
    "val_loss = history.history['val_loss']\n",
    "\n",
    "epochs = range(1, len(acc) + 1)\n",
    "\n",
    "plt.plot(epochs, acc, 'bo', label='Training acc')\n",
    "plt.plot(epochs, val_acc, 'b', label='Validation acc')\n",
    "plt.title('Training and validation accuracy')\n",
    "plt.legend()\n",
    "\n",
    "plt.figure()\n",
    "\n",
    "plt.plot(epochs, loss, 'bo', label='Training loss')\n",
    "plt.plot(epochs, val_loss, 'b', label='Validation loss')\n",
    "plt.title('Training and validation loss')\n",
    "plt.legend()\n",
    "\n",
    "plt.show()"
   ]
  },
  {
   "cell_type": "code",
   "execution_count": null,
   "id": "7ef39b3f",
   "metadata": {},
   "outputs": [],
   "source": []
  },
  {
   "cell_type": "code",
   "execution_count": null,
   "id": "1125ecac",
   "metadata": {},
   "outputs": [],
   "source": []
  },
  {
   "cell_type": "code",
   "execution_count": null,
   "id": "8f6d77de",
   "metadata": {},
   "outputs": [],
   "source": []
  },
  {
   "cell_type": "code",
   "execution_count": null,
   "id": "0b5ad5e1",
   "metadata": {},
   "outputs": [],
   "source": []
  },
  {
   "cell_type": "code",
   "execution_count": null,
   "id": "244450cf",
   "metadata": {},
   "outputs": [],
   "source": []
  }
 ],
 "metadata": {
  "kernelspec": {
   "display_name": "Python 3 (ipykernel)",
   "language": "python",
   "name": "python3"
  },
  "language_info": {
   "codemirror_mode": {
    "name": "ipython",
    "version": 3
   },
   "file_extension": ".py",
   "mimetype": "text/x-python",
   "name": "python",
   "nbconvert_exporter": "python",
   "pygments_lexer": "ipython3",
   "version": "3.11.2"
  }
 },
 "nbformat": 4,
 "nbformat_minor": 5
}
